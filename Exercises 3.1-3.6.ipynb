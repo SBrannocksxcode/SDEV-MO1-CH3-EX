{
 "cells": [
  {
   "cell_type": "code",
   "execution_count": 1,
   "id": "57c22b23",
   "metadata": {},
   "outputs": [
    {
     "name": "stdout",
     "output_type": "stream",
     "text": [
      "Seconds in an hour: 3600\n",
      "Seconds in a day: 86400\n",
      "Seconds per day (floating-point division): 24.0\n",
      "Seconds per day (integer division): 24\n"
     ]
    }
   ],
   "source": [
    "# 3.1\n",
    "seconds_in_minute = 60\n",
    "minutes_in_hour = 60\n",
    "seconds_in_hour = seconds_in_minute * minutes_in_hour\n",
    "print(\"Seconds in an hour:\", seconds_in_hour)\n",
    "\n",
    "# 3.2\n",
    "seconds_per_hour = seconds_in_hour\n",
    "\n",
    "# 3.3\n",
    "seconds_in_day = seconds_per_hour * 24\n",
    "print(\"Seconds in a day:\", seconds_in_day)\n",
    "\n",
    "# 3.4\n",
    "seconds_per_day = seconds_in_day\n",
    "\n",
    "# 3.5\n",
    "seconds_per_day_float = seconds_per_day / seconds_per_hour\n",
    "print(\"Seconds per day (floating-point division):\", seconds_per_day_float)\n",
    "\n",
    "# 3.6\n",
    "seconds_per_day_integer = seconds_per_day // seconds_per_hour\n",
    "print(\"Seconds per day (integer division):\", seconds_per_day_integer)"
   ]
 },
  {
   "cell_type": "code",
   "execution_count": null,
   "id": "9b58c015",
   "metadata": {},
   "outputs": [],
   "source": [#As you can see 3.5 and 3.6 agree xcept the .0. this is expected because of the floating point result will give a decimal value #even if its a whole number.]
  }
 ],
 "metadata": {
  "kernelspec": {
   "display_name": "Python 3 (ipykernel)",
   "language": "python",
   "name": "python3"
  },
  "language_info": {
   "codemirror_mode": {
    "name": "ipython",
    "version": 3
   },
   "file_extension": ".py",
   "mimetype": "text/x-python",
   "name": "python",
   "nbconvert_exporter": "python",
   "pygments_lexer": "ipython3",
   "version": "3.10.9"
  }
 },
 "nbformat": 4,
 "nbformat_minor": 5
}
